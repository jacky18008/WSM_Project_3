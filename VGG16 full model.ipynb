{
 "cells": [
  {
   "cell_type": "code",
   "execution_count": null,
   "metadata": {
    "collapsed": true
   },
   "outputs": [],
   "source": [
    "#https://gist.github.com/baraldilorenzo/07d7802847aaad0a35d3\n",
    "#https://github.com/jacky18008/WSM_Project_3/blob/master/imagersz.py"
   ]
  },
  {
   "cell_type": "code",
   "execution_count": 1,
   "metadata": {
    "collapsed": false
   },
   "outputs": [
    {
     "ename": "SyntaxError",
     "evalue": "invalid syntax (imagersz.py, line 21)",
     "output_type": "error",
     "traceback": [
      "\u001b[1;36m  File \u001b[1;32m\"C:\\users\\名\\LWpy\\Search\\WSM_Project_3-master\\imagersz.py\"\u001b[1;36m, line \u001b[1;32m21\u001b[0m\n\u001b[1;33m    if x > y && x > width:\u001b[0m\n\u001b[1;37m              ^\u001b[0m\n\u001b[1;31mSyntaxError\u001b[0m\u001b[1;31m:\u001b[0m invalid syntax\n"
     ]
    }
   ],
   "source": [
    "import imagersz"
   ]
  },
  {
   "cell_type": "code",
   "execution_count": null,
   "metadata": {
    "collapsed": true
   },
   "outputs": [],
   "source": [
    "from keras.models import Sequential\n",
    "from keras.layers.core import Flatten, Dense, Dropout\n",
    "from keras.layers.convolutional import Convolution2D, MaxPooling2D, ZeroPadding2D\n",
    "from keras.optimizers import SGD\n",
    "import cv2, numpy as np\n",
    "\n",
    "def VGG_16(weights_path=None):\n",
    "    model = Sequential()\n",
    "    model.add(ZeroPadding2D((1,1),input_shape=(3,224,224)))\n",
    "    model.add(Convolution2D(64, 3, 3, activation='relu'))\n",
    "    model.add(ZeroPadding2D((1,1)))\n",
    "    model.add(Convolution2D(64, 3, 3, activation='relu'))\n",
    "    model.add(MaxPooling2D((2,2), strides=(2,2)))\n",
    "\n",
    "    model.add(ZeroPadding2D((1,1)))\n",
    "    model.add(Convolution2D(128, 3, 3, activation='relu'))\n",
    "    model.add(ZeroPadding2D((1,1)))\n",
    "    model.add(Convolution2D(128, 3, 3, activation='relu'))\n",
    "    model.add(MaxPooling2D((2,2), strides=(2,2)))\n",
    "\n",
    "    model.add(ZeroPadding2D((1,1)))\n",
    "    model.add(Convolution2D(256, 3, 3, activation='relu'))\n",
    "    model.add(ZeroPadding2D((1,1)))\n",
    "    model.add(Convolution2D(256, 3, 3, activation='relu'))\n",
    "    model.add(ZeroPadding2D((1,1)))\n",
    "    model.add(Convolution2D(256, 3, 3, activation='relu'))\n",
    "    model.add(MaxPooling2D((2,2), strides=(2,2)))\n",
    "\n",
    "    model.add(ZeroPadding2D((1,1)))\n",
    "    model.add(Convolution2D(512, 3, 3, activation='relu'))\n",
    "    model.add(ZeroPadding2D((1,1)))\n",
    "    model.add(Convolution2D(512, 3, 3, activation='relu'))\n",
    "    model.add(ZeroPadding2D((1,1)))\n",
    "    model.add(Convolution2D(512, 3, 3, activation='relu'))\n",
    "    model.add(MaxPooling2D((2,2), strides=(2,2)))\n",
    "\n",
    "    model.add(ZeroPadding2D((1,1)))\n",
    "    model.add(Convolution2D(512, 3, 3, activation='relu'))\n",
    "    model.add(ZeroPadding2D((1,1)))\n",
    "    model.add(Convolution2D(512, 3, 3, activation='relu'))\n",
    "    model.add(ZeroPadding2D((1,1)))\n",
    "    model.add(Convolution2D(512, 3, 3, activation='relu'))\n",
    "    model.add(MaxPooling2D((2,2), strides=(2,2)))\n",
    "\n",
    "    model.add(Flatten())\n",
    "    model.add(Dense(4096, activation='relu'))\n",
    "    model.add(Dropout(0.5))\n",
    "    model.add(Dense(4096, activation='relu'))\n",
    "    model.add(Dropout(0.5))\n",
    "    model.add(Dense(1000, activation='softmax'))\n",
    "\n",
    "    if weights_path:\n",
    "        model.load_weights(weights_path)\n",
    "    return model\n",
    "if __name__ == \"__main__\":\n",
    "    #resize the image\n",
    "#     im = cv2.resize(cv2.imread('cat.jpg'), (224, 224)).astype(np.float32)\n",
    "#     im[:,:,0] -= 103.939\n",
    "#     im[:,:,1] -= 116.779\n",
    "#     im[:,:,2] -= 123.68\n",
    "#     im = im.transpose((2,0,1))\n",
    "#     im = np.expand_dims(im, axis=0)\n",
    "    #resize the image\n",
    "    img = graph.normal_resize(imga, width, height)\n",
    "    img = im.transpose((2,0,1))\n",
    "    img = np.expand_dims(im, axis=0)\n",
    "    \n",
    "    \n",
    "    # Test pretrained model\n",
    "    model = VGG_16('vgg16_weights.h5')\n",
    "    sgd = SGD(lr=0.1, decay=1e-6, momentum=0.9, nesterov=True)\n",
    "    model.compile(optimizer=sgd, loss='categorical_crossentropy')\n",
    "    out = model.predict(img)\n",
    "    print np.argmax(out)"
   ]
  },
  {
   "cell_type": "code",
   "execution_count": null,
   "metadata": {
    "collapsed": true
   },
   "outputs": [],
   "source": [
    "import os \n",
    "from PIL import image\n",
    "\n",
    "class graph:\n",
    "    #directory of the input image \n",
    "    input_dir = ''\n",
    "    #directory of saving image \n",
    "    save_dir = ''\n",
    "\n",
    "    #normal resize\n",
    "    @classmethod\n",
    "    def normal_resize(imga, width, height):\n",
    "        img = image.open(imga.input_dir)\n",
    "        output = image.resize((weight, height), image.ANTIALIAS)\n",
    "\n",
    "    #cut and resize\n",
    "    @classmethod \n",
    "    def cut_and_resize(imga, width, height, cut_edge):\n",
    "        img = image.open(imga.input_dir)\n",
    "        (x, y) = img.size\n",
    "        if x > y && x > width:  \n",
    "            region = (cut_edge, 0, x-cut_edge, y)  \n",
    "            crop_img = img.crop(region)\n",
    "            crop_img = crop_img.resize((width, height), image.ANTIALIAS)\n",
    "            crop_img.save(imga.save_dir)\n",
    "        elif x < y && y > width:  \n",
    "            region = (0, cut_edge, x, y-cut_edge)  \n",
    "            crop_img = img.crop(region) \n",
    "            crop_img = crop_img.resize((width, height), image.ANTIALIAS)\n",
    "            crop_img.save(imga.save_dir)\n",
    "        else:  \n",
    "            crop_img = img.resize((width, height), image.ANTIALIAS)  \n",
    "            crop_img.save(imga.save_dir)  \n",
    "            \n",
    "    #cut into square and resize\n",
    "    @classmethod \n",
    "    def cut_and_resize_in_squre(imga, width, height):\n",
    "        img = image.open(imga.input_dir)\n",
    "        (x, y) = img.size\n",
    "        if x > y && x > width:\n",
    "            region = ((x-y)/2, 0, y+(x-y)/2, y)  \n",
    "            crop_img = img.crop(region)\n",
    "            crop_img = crop_img.resize((width, height), image.ANTIALIAS)\n",
    "            crop_img.save(imga.save_dir)\n",
    "        elif x < y && y > width:  \n",
    "            region = (0, (y-x)/2, x, x+(y-x)/2)  \n",
    "            crop_img = img.crop(region) \n",
    "            crop_img = crop_img.resize((width, height), image.ANTIALIAS)\n",
    "            crop_img.save(imga.save_dir)\n",
    "        else:  \n",
    "            crop_img = img.resize((width, height), image.ANTIALIAS)  \n",
    "            crop_img.save(imga.save_dir)"
   ]
  },
  {
   "cell_type": "code",
   "execution_count": null,
   "metadata": {
    "collapsed": true
   },
   "outputs": [],
   "source": [
    "#image_top_1 is the catogorizes like VGG16's outcome.\n",
    "#There are many null."
   ]
  },
  {
   "cell_type": "code",
   "execution_count": null,
   "metadata": {
    "collapsed": true
   },
   "outputs": [],
   "source": [
    "#http://cbonnett.github.io/Insight.html\n",
    "#圖片、文字模型合成範例"
   ]
  },
  {
   "cell_type": "code",
   "execution_count": null,
   "metadata": {
    "collapsed": true
   },
   "outputs": [],
   "source": [
    "#About 30% of the top 10% deal_prob percentile are missing prices!\n",
    "#https://www.kaggle.com/c/avito-demand-prediction/discussion/56531"
   ]
  }
 ],
 "metadata": {
  "anaconda-cloud": {},
  "kernelspec": {
   "display_name": "Python [Root]",
   "language": "python",
   "name": "Python [Root]"
  },
  "language_info": {
   "codemirror_mode": {
    "name": "ipython",
    "version": 3
   },
   "file_extension": ".py",
   "mimetype": "text/x-python",
   "name": "python",
   "nbconvert_exporter": "python",
   "pygments_lexer": "ipython3",
   "version": "3.5.2"
  }
 },
 "nbformat": 4,
 "nbformat_minor": 0
}
